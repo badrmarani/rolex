{
 "cells": [
  {
   "cell_type": "code",
   "execution_count": 1,
   "metadata": {},
   "outputs": [],
   "source": [
    "from tvae.synthesizers.tvae import TVAE\n",
    "\n",
    "from sklearn.model_selection import train_test_split\n",
    "\n",
    "import numpy as np\n",
    "\n",
    "import pandas as pd\n",
    "import torch"
   ]
  },
  {
   "cell_type": "code",
   "execution_count": 2,
   "metadata": {},
   "outputs": [],
   "source": [
    "df = pd.read_csv(\"../../data/full_all_dataset_x.csv\", sep=\",\")\n",
    "binary_columns = [col for col in df.columns if df[col].dtype == \"int64\"]\n",
    "df[binary_columns] = df[binary_columns].astype(\"category\")\n",
    "\n",
    "n_samples = df.shape[0]\n",
    "n_features = df.shape[1]\n",
    "fit_idx, val_idx = train_test_split(np.arange(0, n_samples, 1), shuffle=True)\n",
    "\n",
    "fit = torch.from_numpy(df.iloc[fit_idx, :].values).to(torch.float)\n",
    "val = torch.from_numpy(df.iloc[val_idx, :].values).to(torch.float)\n"
   ]
  },
  {
   "cell_type": "code",
   "execution_count": 3,
   "metadata": {},
   "outputs": [],
   "source": [
    "inp_size = fit.size(-1)\n",
    "compress_dims = tuple([inp_size//i for i in range(1, 4)]),\n",
    "\n",
    "model = TVAE(\n",
    "    embedding_dim=2,\n",
    "    compress_dims=compress_dims,\n",
    "    decompress_dims=compress_dims[::-1],\n",
    "    l2scale=1e-5,\n",
    "    batch_size=64,\n",
    "    epochs=100,\n",
    "    loss_factor=2,\n",
    "    cuda=True\n",
    ")\n",
    "\n"
   ]
  },
  {
   "cell_type": "code",
   "execution_count": 4,
   "metadata": {},
   "outputs": [],
   "source": [
    "from sdv.metadata import SingleTableMetadata\n",
    "\n",
    "\n",
    "metadata = SingleTableMetadata()\n",
    "metadata.detect_from_dataframe(df)\n"
   ]
  },
  {
   "cell_type": "code",
   "execution_count": 5,
   "metadata": {},
   "outputs": [],
   "source": [
    "model.fit(fit.cpu().numpy(), binary_columns)"
   ]
  },
  {
   "cell_type": "code",
   "execution_count": null,
   "metadata": {},
   "outputs": [],
   "source": []
  }
 ],
 "metadata": {
  "kernelspec": {
   "display_name": "uq-vae",
   "language": "python",
   "name": "python3"
  },
  "language_info": {
   "codemirror_mode": {
    "name": "ipython",
    "version": 3
   },
   "file_extension": ".py",
   "mimetype": "text/x-python",
   "name": "python",
   "nbconvert_exporter": "python",
   "pygments_lexer": "ipython3",
   "version": "3.10.9"
  },
  "orig_nbformat": 4
 },
 "nbformat": 4,
 "nbformat_minor": 2
}
