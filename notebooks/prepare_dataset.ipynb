{
 "cells": [
  {
   "cell_type": "code",
   "execution_count": null,
   "metadata": {},
   "outputs": [],
   "source": [
    "import sys\n",
    "\n",
    "sys.path.pop(0)\n",
    "sys.path.insert(0, \"../sys\")\n",
    "\n",
    "from src.dataset import prepare_quality_dateset\n",
    "\n",
    "import pandas as pd"
   ]
  },
  {
   "cell_type": "code",
   "execution_count": null,
   "metadata": {},
   "outputs": [],
   "source": [
    "dataset = pd.read_csv(\n",
    "    \"../data/fulldataset.csv\",\n",
    "    sep=\",\",\n",
    ")\n",
    "targets = dataset[[\"target_000\", \"target_001\"]]\n",
    "\n",
    "notna_targets_indx = targets.notna().all(1)\n",
    "dataset = dataset[notna_targets_indx]\n",
    "\n",
    "dataset.drop(columns=[\"Unnamed: 0\", \"ROW_ID\"], axis=1, inplace=True)\n",
    "dataset.dropna(\n",
    "    axis=\"columns\",\n",
    "    how=\"any\",\n",
    "    inplace=True,\n",
    ")\n",
    "\n",
    "binary_columns = [col for col in dataset.columns if dataset[col].dtype == \"int64\"]\n",
    "one_value_cols = pd.Series(\n",
    "    {\n",
    "        c: dataset[c].unique()\n",
    "        for c in dataset[binary_columns]\n",
    "        if len(dataset[c].unique()) == 1\n",
    "    }\n",
    ").index.to_list()\n",
    "\n",
    "dataset.drop(columns=one_value_cols, axis=1, inplace=True)\n",
    "\n",
    "dataset.head()"
   ]
  },
  {
   "cell_type": "code",
   "execution_count": null,
   "metadata": {},
   "outputs": [],
   "source": [
    "ds = dataset.sample(100)\n",
    "x, y = ds.iloc[:, :-2], ds.iloc[:, -2:]\n",
    "\n",
    "transformer, fit, val = prepare_quality_dateset(x, y, shuffle=False)"
   ]
  },
  {
   "cell_type": "code",
   "execution_count": null,
   "metadata": {},
   "outputs": [],
   "source": [
    "x, y = fit.tensors\n",
    "inv_x = transformer.inverse_transform(x.numpy())\n",
    "inv_x"
   ]
  },
  {
   "cell_type": "code",
   "execution_count": null,
   "metadata": {},
   "outputs": [],
   "source": []
  }
 ],
 "metadata": {
  "kernelspec": {
   "display_name": "uq-vae",
   "language": "python",
   "name": "python3"
  },
  "language_info": {
   "codemirror_mode": {
    "name": "ipython",
    "version": 3
   },
   "file_extension": ".py",
   "mimetype": "text/x-python",
   "name": "python",
   "nbconvert_exporter": "python",
   "pygments_lexer": "ipython3",
   "version": "3.10.9"
  },
  "orig_nbformat": 4
 },
 "nbformat": 4,
 "nbformat_minor": 2
}
